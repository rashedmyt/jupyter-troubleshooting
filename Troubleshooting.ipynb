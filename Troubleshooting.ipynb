{
 "cells": [
  {
   "cell_type": "code",
   "execution_count": 1,
   "id": "c6a126ef-441d-4777-b36e-45558a6bc71d",
   "metadata": {},
   "outputs": [
    {
     "name": "stdout",
     "output_type": "stream",
     "text": [
      "-----------------------------------------------------------------------------------------------------\n",
      "MATLAB Version: 9.14.0.2206163 (R2023a)\n",
      "MATLAB License Number: 40447121\n",
      "Operating System: Linux 5.10.0-23-amd64 #1 SMP Debian 5.10.179-1 (2023-05-12) x86_64\n",
      "Java Version: Java 1.8.0_202-b08 with Oracle Corporation Java HotSpot(TM) 64-Bit Server VM mixed mode\n",
      "-----------------------------------------------------------------------------------------------------\n",
      "MATLAB                                                Version 9.14        (R2023a)\n"
     ]
    }
   ],
   "source": [
    "ver"
   ]
  },
  {
   "cell_type": "code",
   "execution_count": 2,
   "id": "56734d77-78b2-4f23-b317-850271e50f7c",
   "metadata": {},
   "outputs": [
    {
     "name": "stdout",
     "output_type": "stream",
     "text": [
      "/home/rmohamme/Documents/MATLAB/startup.m\n"
     ]
    }
   ],
   "source": [
    "which -all startup"
   ]
  },
  {
   "cell_type": "code",
   "execution_count": 3,
   "id": "f8efbbe5-fe5a-4b88-88be-502f419f055b",
   "metadata": {},
   "outputs": [
    {
     "name": "stdout",
     "output_type": "stream",
     "text": [
      "/home/rmohamme/matlab/23a/toolbox/local/pathdef.m\n"
     ]
    }
   ],
   "source": [
    "which -all pathdef"
   ]
  },
  {
   "cell_type": "code",
   "execution_count": null,
   "id": "77ed4b26-0dd2-4bf1-92ca-7a168c6cb813",
   "metadata": {
    "scrolled": true
   },
   "outputs": [],
   "source": [
    "type pathdef"
   ]
  },
  {
   "cell_type": "code",
   "execution_count": 15,
   "id": "a9a63c24-a273-4cdb-a735-fe423f1a94df",
   "metadata": {},
   "outputs": [],
   "source": [
    "mkdir /tmp/test_folder\n",
    "addpath('/tmp/test_folder')\n",
    "savepath"
   ]
  },
  {
   "cell_type": "code",
   "execution_count": 18,
   "id": "3ca0d94c-f52d-4509-a522-341e1d513751",
   "metadata": {},
   "outputs": [
    {
     "name": "stdout",
     "output_type": "stream",
     "text": [
      "Found test_folder in pathdef\n"
     ]
    }
   ],
   "source": [
    "file = which('pathdef');\n",
    "text = fileread(file);\n",
    "if ~isempty(strfind(text, 'test_folder'))\n",
    "    disp('Found test_folder in pathdef')\n",
    "else\n",
    "    disp('Failed adding to pathdef')\n",
    "end"
   ]
  },
  {
   "cell_type": "code",
   "execution_count": null,
   "id": "e22c0e15-2936-44c1-8a55-72ddf04bc4fb",
   "metadata": {},
   "outputs": [],
   "source": []
  }
 ],
 "metadata": {
  "kernelspec": {
   "display_name": "MATLAB Kernel",
   "language": "matlab",
   "name": "jupyter_matlab_kernel"
  },
  "language_info": {
   "file_extension": ".m",
   "mimetype": "text/x-matlab",
   "name": "matlab"
  }
 },
 "nbformat": 4,
 "nbformat_minor": 5
}
